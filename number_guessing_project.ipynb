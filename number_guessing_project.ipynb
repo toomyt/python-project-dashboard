{
  "nbformat": 4,
  "nbformat_minor": 0,
  "metadata": {
    "colab": {
      "provenance": []
    },
    "kernelspec": {
      "name": "python3",
      "display_name": "Python 3"
    },
    "language_info": {
      "name": "python"
    }
  },
  "cells": [
    {
      "cell_type": "code",
      "execution_count": 23,
      "metadata": {
        "colab": {
          "base_uri": "https://localhost:8080/"
        },
        "id": "Q6w0pEx68Td5",
        "outputId": "013b4785-5cd0-4802-9b76-7ea413bb5063"
      },
      "outputs": [
        {
          "output_type": "stream",
          "name": "stdout",
          "text": [
            "Enter a number to get started: 20\n",
            "Welcome to Guess My Number!\n",
            "Please think of a number between 0 and 20\n",
            "Is your secret number: 10?\n",
            "Please enter C for correct, H for too high, or L for too low\n",
            "Enter your response (H/L/C): C\n",
            "Thank you for playing Guess My Number!\n"
          ]
        }
      ],
      "source": [
        "import math\n",
        "def number_guesser():\n",
        "  n = int(input(\"Enter a number to get started: \"))\n",
        "  while n <= 0:\n",
        "    print(\"Please enter a positive number to get started: \")\n",
        "  print(\"Welcome to Guess My Number!\"\n",
        "  \"\\nPlease think of a number between 0 and \" + str(n))\n",
        "\n",
        "  low = 0\n",
        "  high = n - 1\n",
        "  while low <= high:\n",
        "    mid = math.ceil((low + (high - low) / 2))\n",
        "    print(\"Is your secret number: \" + str(mid) + \"?\")\n",
        "\n",
        "    print('Please enter C for correct, H for too high, or L for too low')\n",
        "    letter = input(\"Enter your response (H/L/C): \")\n",
        "    while letter not in [\"C\",\"H\",\"L\"]:\n",
        "      letter = input(\"Please choose (H/L/C) for your response: \")\n",
        "\n",
        "    if letter == 'C':\n",
        "      print('Thank you for playing Guess My Number!')\n",
        "      break\n",
        "    elif letter == 'H':\n",
        "      high = mid - 1\n",
        "    else:\n",
        "      low = mid + 1\n",
        "\n",
        "number_guesser()"
      ]
    }
  ]
}